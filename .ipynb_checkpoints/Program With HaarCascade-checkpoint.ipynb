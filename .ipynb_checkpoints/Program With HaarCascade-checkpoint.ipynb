{
 "cells": [
  {
   "cell_type": "code",
   "execution_count": 5,
   "id": "5cc19333",
   "metadata": {},
   "outputs": [
    {
     "ename": "SyntaxError",
     "evalue": "invalid syntax (2464076359.py, line 1)",
     "output_type": "error",
     "traceback": [
      "\u001b[1;36m  Cell \u001b[1;32mIn[5], line 1\u001b[1;36m\u001b[0m\n\u001b[1;33m    vimport numpy as np\u001b[0m\n\u001b[1;37m            ^\u001b[0m\n\u001b[1;31mSyntaxError\u001b[0m\u001b[1;31m:\u001b[0m invalid syntax\n"
     ]
    }
   ],
   "source": [
    "import numpy as np\n",
    "import cv2\n",
    "from math import sqrt\n",
    "\n",
    "def center(x1, y1, x2, y2):\n",
    "    Cx = x1 + (x2 - x1) // 2\n",
    "    Cy = y1 + (y2 - y1) // 2\n",
    "    return (Cx,Cy)\n",
    "def distance(x1, y1, x2, y2):\n",
    "    distance = sqrt((x1 - x2)**2 + (y1 - y2)**2)\n",
    "    return distance\n",
    "\n",
    "distSoc = float(input('Donnez la distance autorisée: '))\n",
    "video = cv2.VideoCapture('videos/video1.mp4')\n",
    "bodyDetecter = cv2.CascadeClassifier('haarcascade_fullbody.xml')\n",
    "while video.isOpened():\n",
    "    check, frame = video.read()\n",
    "    if not check:\n",
    "        break\n",
    "    bodies = bodyDetecter.detectMultiScale(frame)\n",
    "    for i in range(len(bodies)):\n",
    "        (x1,y1,w1,h1) = bodies[i]\n",
    "        enoughDist = True\n",
    "        for j in range(len(bodies)):\n",
    "            (x2,y2,w2,h2) = bodies[j]\n",
    "            if i == j:\n",
    "                continue # To avoiding checking the distance between an object and itself\n",
    "            (xc1,yc1) = center(x1,y1, x1+w1,y1+h1)  # cordinates of center of person 1\n",
    "            (xc2,yc2) = center(x2,y2, x2+w2,y2+h2)  # cordinates of center of person 2\n",
    "            dist = distance(xc1, yc1, xc2, yc2)  # distance between the two centers\n",
    "            if dist < distSoc:\n",
    "                enoughDist = False\n",
    "        if enoughDist:\n",
    "            cv2.rectangle(frame, (x1, y1), (x1+w1, y1+h1), (0,255,0), 2)\n",
    "        else:\n",
    "            cv2.rectangle(frame, (x1, y1), (x1+w1, y1+h1), (0,0,255), 2)\n",
    "            cv2.line(frame,(x+int(w/2),y+int(h/2)),(x1+int(w1/2),y1+int(h1/2)),(255,255,255),1)\n",
    "\n",
    "            \n",
    "    cv2.imshow('Video',frame)\n",
    "    key = cv2.waitKey(1)\n",
    "    if key == 27:\n",
    "        break\n",
    "\n",
    "video.release()\n",
    "cv2.destroyAllWindows()"
   ]
  },
  {
   "cell_type": "code",
   "execution_count": 3,
   "id": "1905157d-eb8c-4f8f-bdaa-7ec2a50b90e7",
   "metadata": {},
   "outputs": [],
   "source": [
    "import cv2"
   ]
  },
  {
   "cell_type": "code",
   "execution_count": null,
   "id": "6b360bc1-12fb-4255-aeb4-3c2ef37112c9",
   "metadata": {},
   "outputs": [],
   "source": [
    "video = cv2.VideoCapture('videos/video1.mp4')\n",
    "\n"
   ]
  },
  {
   "cell_type": "code",
   "execution_count": 4,
   "id": "027ee8f1-aa34-4de1-a6c9-15cc34f0b7bb",
   "metadata": {},
   "outputs": [
    {
     "name": "stdin",
     "output_type": "stream",
     "text": [
      "Donner le seuil à respecter :  100\n"
     ]
    }
   ],
   "source": [
    "def center(x, y, w, h):\n",
    "    centerX = x + round(w / 2)\n",
    "    centerY = y + round(h / 2)\n",
    "    return (centerX, centerY)\n",
    "\n",
    "from math import sqrt\n",
    "\n",
    "def euclidean(x1, y1, x2, y2):\n",
    "    return sqrt((x1 - x2) ** 2 + (y1 - y2) ** 2)\n",
    "\n",
    "import cv2\n",
    "\n",
    "cap = cv2.VideoCapture('videos/video1.mp4')\n",
    "\n",
    "fullBody = cv2.CascadeClassifier('haarcascade_fullbody.xml')\n",
    "seuil = float(input('Donner le seuil à respecter : '))\n",
    "\n",
    "if not cap.isOpened():\n",
    "    raise IOError(\"Cannot open video. Please check the path or file format.\")\n",
    "\n",
    "while cap.isOpened():\n",
    "    ret, frame = cap.read()\n",
    "    if ret:\n",
    "        bodies = fullBody.detectMultiScale(frame, 1.1, 1)\n",
    "        for i, (x, y, w, h) in enumerate(bodies):\n",
    "            cv2.circle(frame, (x + int(w / 2), y + int(h / 2)), 3, (255, 0, 0), 3)\n",
    "            X_Center, Y_Center = center(x, y, w, h)\n",
    "            for j, (x1, y1, w1, h1) in enumerate(bodies):\n",
    "                if i != j:  # Ensure not to compare the same person\n",
    "                    X1_Center, Y1_Center = center(x1, y1, w1, h1)\n",
    "                    dis = euclidean(X_Center, Y_Center, X1_Center, Y1_Center)\n",
    "                    if dis < seuil:\n",
    "                        cv2.rectangle(frame, (x, y), (x + w, y + h), (0, 0, 255), 2)\n",
    "                        cv2.line(frame, (X_Center, Y_Center), (X1_Center, Y1_Center), (255, 255, 255), 1)\n",
    "                    else:\n",
    "                        cv2.rectangle(frame, (x, y), (x + w, y + h), (0, 255, 0), 2)\n",
    "        cv2.imshow(\"People Walking\", frame)\n",
    "        if cv2.waitKey(25) & 0xFF == ord('q'):\n",
    "            break\n",
    "    else:\n",
    "        break\n",
    "\n",
    "cap.release()\n",
    "cv2.destroyAllWindows()\n"
   ]
  }
 ],
 "metadata": {
  "kernelspec": {
   "display_name": "Python 3 (ipykernel)",
   "language": "python",
   "name": "python3"
  },
  "language_info": {
   "codemirror_mode": {
    "name": "ipython",
    "version": 3
   },
   "file_extension": ".py",
   "mimetype": "text/x-python",
   "name": "python",
   "nbconvert_exporter": "python",
   "pygments_lexer": "ipython3",
   "version": "3.9.12"
  }
 },
 "nbformat": 4,
 "nbformat_minor": 5
}
